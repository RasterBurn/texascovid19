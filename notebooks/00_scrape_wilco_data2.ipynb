{
 "cells": [
  {
   "cell_type": "code",
   "execution_count": 1,
   "metadata": {},
   "outputs": [],
   "source": [
    "from texascovid19 import constants\n",
    "import requests\n",
    "import pandas as pd\n",
    "from datetime import date"
   ]
  },
  {
   "cell_type": "markdown",
   "metadata": {},
   "source": [
    "Fetch each day's data.  The data is \"current as of 8 p.m. the day before reporting.\""
   ]
  },
  {
   "cell_type": "code",
   "execution_count": 81,
   "metadata": {},
   "outputs": [],
   "source": [
    "def get_arcgis_xhr_data(url):\n",
    "    r = requests.get(url, verify=False)\n",
    "    r.raise_for_status()\n",
    "    data = r.json()['features']\n",
    "    norm_data = []\n",
    "    for datum in data:\n",
    "        norm_data.append(datum['attributes'])\n",
    "    return pd.DataFrame(data=norm_data)"
   ]
  },
  {
   "cell_type": "code",
   "execution_count": 82,
   "metadata": {},
   "outputs": [
    {
     "name": "stderr",
     "output_type": "stream",
     "text": [
      "/Users/dan/code/texascovid19/venv/lib/python3.8/site-packages/urllib3/connectionpool.py:997: InsecureRequestWarning: Unverified HTTPS request is being made to host 'gis.wilco.org'. Adding certificate verification is strongly advised. See: https://urllib3.readthedocs.io/en/latest/advanced-usage.html#ssl-warnings\n",
      "  warnings.warn(\n",
      "/Users/dan/code/texascovid19/venv/lib/python3.8/site-packages/urllib3/connectionpool.py:997: InsecureRequestWarning: Unverified HTTPS request is being made to host 'gis.wilco.org'. Adding certificate verification is strongly advised. See: https://urllib3.readthedocs.io/en/latest/advanced-usage.html#ssl-warnings\n",
      "  warnings.warn(\n",
      "/Users/dan/code/texascovid19/venv/lib/python3.8/site-packages/urllib3/connectionpool.py:997: InsecureRequestWarning: Unverified HTTPS request is being made to host 'gis.wilco.org'. Adding certificate verification is strongly advised. See: https://urllib3.readthedocs.io/en/latest/advanced-usage.html#ssl-warnings\n",
      "  warnings.warn(\n",
      "/Users/dan/code/texascovid19/venv/lib/python3.8/site-packages/urllib3/connectionpool.py:997: InsecureRequestWarning: Unverified HTTPS request is being made to host 'gis.wilco.org'. Adding certificate verification is strongly advised. See: https://urllib3.readthedocs.io/en/latest/advanced-usage.html#ssl-warnings\n",
      "  warnings.warn(\n"
     ]
    }
   ],
   "source": [
    "df_city = get_arcgis_xhr_data(constants.WILCO_CITY_XHR_URL)\n",
    "df_gender = get_arcgis_xhr_data(constants.WILCO_GENDER_XHR_URL)\n",
    "df_age = get_arcgis_xhr_data(constants.WILCO_AGE_DISTRO_XHR_URL)\n",
    "df_status = get_arcgis_xhr_data(constants.WILCO_STATUS_XHR_URL)"
   ]
  },
  {
   "cell_type": "code",
   "execution_count": 83,
   "metadata": {},
   "outputs": [],
   "source": [
    "df_city = (df_city\n",
    "           .rename(columns={\"City_of_Residence\": \"City of Residence\", \"value\": \"Number of Cases\"})\n",
    "           .set_index(\"City of Residence\"))"
   ]
  },
  {
   "cell_type": "code",
   "execution_count": 84,
   "metadata": {},
   "outputs": [
    {
     "data": {
      "text/html": [
       "<div>\n",
       "<style scoped>\n",
       "    .dataframe tbody tr th:only-of-type {\n",
       "        vertical-align: middle;\n",
       "    }\n",
       "\n",
       "    .dataframe tbody tr th {\n",
       "        vertical-align: top;\n",
       "    }\n",
       "\n",
       "    .dataframe thead th {\n",
       "        text-align: right;\n",
       "    }\n",
       "</style>\n",
       "<table border=\"1\" class=\"dataframe\">\n",
       "  <thead>\n",
       "    <tr style=\"text-align: right;\">\n",
       "      <th></th>\n",
       "      <th>Number of Cases</th>\n",
       "    </tr>\n",
       "    <tr>\n",
       "      <th>City of Residence</th>\n",
       "      <th></th>\n",
       "    </tr>\n",
       "  </thead>\n",
       "  <tbody>\n",
       "    <tr>\n",
       "      <th>Austin</th>\n",
       "      <td>5</td>\n",
       "    </tr>\n",
       "    <tr>\n",
       "      <th>Cedar Park</th>\n",
       "      <td>7</td>\n",
       "    </tr>\n",
       "    <tr>\n",
       "      <th>Georgetown</th>\n",
       "      <td>9</td>\n",
       "    </tr>\n",
       "    <tr>\n",
       "      <th>Hutto</th>\n",
       "      <td>1</td>\n",
       "    </tr>\n",
       "    <tr>\n",
       "      <th>Leander</th>\n",
       "      <td>6</td>\n",
       "    </tr>\n",
       "    <tr>\n",
       "      <th>Round Rock</th>\n",
       "      <td>9</td>\n",
       "    </tr>\n",
       "  </tbody>\n",
       "</table>\n",
       "</div>"
      ],
      "text/plain": [
       "                   Number of Cases\n",
       "City of Residence                 \n",
       "Austin                           5\n",
       "Cedar Park                       7\n",
       "Georgetown                       9\n",
       "Hutto                            1\n",
       "Leander                          6\n",
       "Round Rock                       9"
      ]
     },
     "execution_count": 84,
     "metadata": {},
     "output_type": "execute_result"
    }
   ],
   "source": [
    "df_city"
   ]
  },
  {
   "cell_type": "code",
   "execution_count": 85,
   "metadata": {},
   "outputs": [],
   "source": [
    "df_gender = df_gender.rename(columns={\n",
    "    \"MalePercentage\": \"Male\",\n",
    "    \"FemalePercentage\": \"Female\"\n",
    "}).T\n",
    "df_gender.columns = [\"Percentage\"]\n",
    "df_gender.index.name = \"Gender\""
   ]
  },
  {
   "cell_type": "code",
   "execution_count": 86,
   "metadata": {},
   "outputs": [
    {
     "data": {
      "text/html": [
       "<div>\n",
       "<style scoped>\n",
       "    .dataframe tbody tr th:only-of-type {\n",
       "        vertical-align: middle;\n",
       "    }\n",
       "\n",
       "    .dataframe tbody tr th {\n",
       "        vertical-align: top;\n",
       "    }\n",
       "\n",
       "    .dataframe thead th {\n",
       "        text-align: right;\n",
       "    }\n",
       "</style>\n",
       "<table border=\"1\" class=\"dataframe\">\n",
       "  <thead>\n",
       "    <tr style=\"text-align: right;\">\n",
       "      <th></th>\n",
       "      <th>Percentage</th>\n",
       "    </tr>\n",
       "    <tr>\n",
       "      <th>Gender</th>\n",
       "      <th></th>\n",
       "    </tr>\n",
       "  </thead>\n",
       "  <tbody>\n",
       "    <tr>\n",
       "      <th>Male</th>\n",
       "      <td>43.0</td>\n",
       "    </tr>\n",
       "    <tr>\n",
       "      <th>Female</th>\n",
       "      <td>57.0</td>\n",
       "    </tr>\n",
       "  </tbody>\n",
       "</table>\n",
       "</div>"
      ],
      "text/plain": [
       "        Percentage\n",
       "Gender            \n",
       "Male          43.0\n",
       "Female        57.0"
      ]
     },
     "execution_count": 86,
     "metadata": {},
     "output_type": "execute_result"
    }
   ],
   "source": [
    "df_gender"
   ]
  },
  {
   "cell_type": "code",
   "execution_count": 87,
   "metadata": {},
   "outputs": [],
   "source": [
    "df_age = df_age.rename(columns={\n",
    "    \"Q_0_to_17\": \"0 to 17\",\n",
    "    \"Q_18_to_40\": \"18 to 40\",\n",
    "    \"Q_41_to_60\": \"41 to 60\",\n",
    "    \"Over_60\": \"Over 60\"\n",
    "}).T.convert_dtypes(convert_integer=True)\n",
    "df_age.columns = [\"Number of Cases\"]\n",
    "df_age.index.name = \"Age Group\""
   ]
  },
  {
   "cell_type": "code",
   "execution_count": 88,
   "metadata": {},
   "outputs": [
    {
     "data": {
      "text/html": [
       "<div>\n",
       "<style scoped>\n",
       "    .dataframe tbody tr th:only-of-type {\n",
       "        vertical-align: middle;\n",
       "    }\n",
       "\n",
       "    .dataframe tbody tr th {\n",
       "        vertical-align: top;\n",
       "    }\n",
       "\n",
       "    .dataframe thead th {\n",
       "        text-align: right;\n",
       "    }\n",
       "</style>\n",
       "<table border=\"1\" class=\"dataframe\">\n",
       "  <thead>\n",
       "    <tr style=\"text-align: right;\">\n",
       "      <th></th>\n",
       "      <th>Number of Cases</th>\n",
       "    </tr>\n",
       "    <tr>\n",
       "      <th>Age Group</th>\n",
       "      <th></th>\n",
       "    </tr>\n",
       "  </thead>\n",
       "  <tbody>\n",
       "    <tr>\n",
       "      <th>0 to 17</th>\n",
       "      <td>1</td>\n",
       "    </tr>\n",
       "    <tr>\n",
       "      <th>18 to 40</th>\n",
       "      <td>10</td>\n",
       "    </tr>\n",
       "    <tr>\n",
       "      <th>41 to 60</th>\n",
       "      <td>15</td>\n",
       "    </tr>\n",
       "    <tr>\n",
       "      <th>Over 60</th>\n",
       "      <td>11</td>\n",
       "    </tr>\n",
       "  </tbody>\n",
       "</table>\n",
       "</div>"
      ],
      "text/plain": [
       "           Number of Cases\n",
       "Age Group                 \n",
       "0 to 17                  1\n",
       "18 to 40                10\n",
       "41 to 60                15\n",
       "Over 60                 11"
      ]
     },
     "execution_count": 88,
     "metadata": {},
     "output_type": "execute_result"
    }
   ],
   "source": [
    "df_age"
   ]
  },
  {
   "cell_type": "code",
   "execution_count": 108,
   "metadata": {},
   "outputs": [],
   "source": [
    "df_status = df_status.rename(columns={\n",
    "    \"HospitalizedPercentage\": \"Hospitalized Percentage\",\n",
    "    \"DeathsPercentage\": \"Deaths Percentage\",\n",
    "    \"RecoverdPercentage\": \"Recovered Percentage\",\n",
    "    \"Total_Cases\": \"Total Cases\"\n",
    "}).T.drop('OBJECTID', axis=0)\n",
    "df_status.columns = [\"Number of Cases\"]\n",
    "df_status.index.name = \"Status\""
   ]
  },
  {
   "cell_type": "code",
   "execution_count": 109,
   "metadata": {},
   "outputs": [
    {
     "data": {
      "text/html": [
       "<div>\n",
       "<style scoped>\n",
       "    .dataframe tbody tr th:only-of-type {\n",
       "        vertical-align: middle;\n",
       "    }\n",
       "\n",
       "    .dataframe tbody tr th {\n",
       "        vertical-align: top;\n",
       "    }\n",
       "\n",
       "    .dataframe thead th {\n",
       "        text-align: right;\n",
       "    }\n",
       "</style>\n",
       "<table border=\"1\" class=\"dataframe\">\n",
       "  <thead>\n",
       "    <tr style=\"text-align: right;\">\n",
       "      <th></th>\n",
       "      <th>Number of Cases</th>\n",
       "    </tr>\n",
       "    <tr>\n",
       "      <th>Status</th>\n",
       "      <th></th>\n",
       "    </tr>\n",
       "  </thead>\n",
       "  <tbody>\n",
       "    <tr>\n",
       "      <th>Hospitalized</th>\n",
       "      <td>8</td>\n",
       "    </tr>\n",
       "    <tr>\n",
       "      <th>Hospitalized Percentage</th>\n",
       "      <td>22</td>\n",
       "    </tr>\n",
       "    <tr>\n",
       "      <th>Deaths</th>\n",
       "      <td>1</td>\n",
       "    </tr>\n",
       "    <tr>\n",
       "      <th>Deaths Percentage</th>\n",
       "      <td>3</td>\n",
       "    </tr>\n",
       "    <tr>\n",
       "      <th>Recovered</th>\n",
       "      <td>7</td>\n",
       "    </tr>\n",
       "    <tr>\n",
       "      <th>Recovered Percentage</th>\n",
       "      <td>19</td>\n",
       "    </tr>\n",
       "    <tr>\n",
       "      <th>Total Cases</th>\n",
       "      <td>37</td>\n",
       "    </tr>\n",
       "  </tbody>\n",
       "</table>\n",
       "</div>"
      ],
      "text/plain": [
       "                        Number of Cases\n",
       "Status                                 \n",
       "Hospitalized                          8\n",
       "Hospitalized Percentage              22\n",
       "Deaths                                1\n",
       "Deaths Percentage                     3\n",
       "Recovered                             7\n",
       "Recovered Percentage                 19\n",
       "Total Cases                          37"
      ]
     },
     "execution_count": 109,
     "metadata": {},
     "output_type": "execute_result"
    }
   ],
   "source": [
    "df_status"
   ]
  },
  {
   "cell_type": "code",
   "execution_count": 89,
   "metadata": {},
   "outputs": [],
   "source": [
    "today = date.today().isoformat()"
   ]
  },
  {
   "cell_type": "code",
   "execution_count": 90,
   "metadata": {},
   "outputs": [],
   "source": [
    "wilco_path = f\"{constants.DATA_PATH}/wilco\""
   ]
  },
  {
   "cell_type": "code",
   "execution_count": 91,
   "metadata": {},
   "outputs": [],
   "source": [
    "def write_csv(categ, timeseries_column, dt, df):\n",
    "    df = df.copy()\n",
    "    df.to_csv(f\"{wilco_path}/{categ}/{today}.csv\", header=True, index=True)\n",
    "    # append to timeseries\n",
    "    timeseries_csv_name = f\"{wilco_path}/{categ}/timeseries.csv\"\n",
    "    df.rename(columns={timeseries_column: today}, inplace=True)\n",
    "    try:\n",
    "        df_timeseries = pd.read_csv(timeseries_csv_name).set_index(df.index.name)\n",
    "        if today in df_timeseries.columns:\n",
    "            df_timeseries.drop(columns=today, inplace=True)\n",
    "        df_timeseries = pd.concat([df_timeseries, df[[today]]] , axis=1).rename_axis(df.index.name)\n",
    "        df_timeseries.to_csv(timeseries_csv_name, header=True, index=True)\n",
    "    except FileNotFoundError as e:\n",
    "        df[[today]].to_csv(timeseries_csv_name, header=True, index=True)\n",
    "        "
   ]
  },
  {
   "cell_type": "code",
   "execution_count": 92,
   "metadata": {},
   "outputs": [
    {
     "name": "stdout",
     "output_type": "stream",
     "text": [
      "                   2020-03-28\n",
      "City of Residence            \n",
      "Austin                      5\n",
      "Cedar Park                  7\n",
      "Georgetown                  9\n",
      "Hutto                       1\n",
      "Leander                     6\n",
      "Round Rock                  9\n"
     ]
    }
   ],
   "source": [
    "write_csv(\"bycity\", \"Number of Cases\", today, df_city)"
   ]
  },
  {
   "cell_type": "code",
   "execution_count": 94,
   "metadata": {},
   "outputs": [
    {
     "name": "stdout",
     "output_type": "stream",
     "text": [
      "           2020-03-28\n",
      "Age Group            \n",
      "0 to 17             1\n",
      "18 to 40           10\n",
      "41 to 60           15\n",
      "Over 60            11\n"
     ]
    }
   ],
   "source": [
    "write_csv(\"byage\", \"Number of Cases\", today, df_age)"
   ]
  },
  {
   "cell_type": "code",
   "execution_count": 95,
   "metadata": {},
   "outputs": [
    {
     "name": "stdout",
     "output_type": "stream",
     "text": [
      "        2020-03-28\n",
      "Gender            \n",
      "Male          43.0\n",
      "Female        57.0\n"
     ]
    }
   ],
   "source": [
    "write_csv(\"bygender\", \"Percentage\", today, df_gender)"
   ]
  },
  {
   "cell_type": "code",
   "execution_count": 110,
   "metadata": {},
   "outputs": [
    {
     "name": "stdout",
     "output_type": "stream",
     "text": [
      "                        2020-03-28\n",
      "Status                            \n",
      "Hospitalized                     8\n",
      "Hospitalized Percentage         22\n",
      "Deaths                           1\n",
      "Deaths Percentage                3\n",
      "Recovered                        7\n",
      "Recovered Percentage            19\n",
      "Total Cases                     37\n"
     ]
    }
   ],
   "source": [
    "write_csv(\"bystatus\", \"Number of Cases\", today, df_status)"
   ]
  },
  {
   "cell_type": "code",
   "execution_count": null,
   "metadata": {},
   "outputs": [],
   "source": []
  }
 ],
 "metadata": {
  "kernelspec": {
   "display_name": "Python 3",
   "language": "python",
   "name": "python3"
  },
  "language_info": {
   "codemirror_mode": {
    "name": "ipython",
    "version": 3
   },
   "file_extension": ".py",
   "mimetype": "text/x-python",
   "name": "python",
   "nbconvert_exporter": "python",
   "pygments_lexer": "ipython3",
   "version": "3.8.2"
  }
 },
 "nbformat": 4,
 "nbformat_minor": 4
}
