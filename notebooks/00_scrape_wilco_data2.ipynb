{
 "cells": [
  {
   "cell_type": "code",
   "execution_count": 1,
   "metadata": {},
   "outputs": [],
   "source": [
    "from texascovid19 import constants\n",
    "import requests\n",
    "import pandas as pd\n",
    "from datetime import date"
   ]
  },
  {
   "cell_type": "markdown",
   "metadata": {},
   "source": [
    "Fetch each day's data.  The data is \"current as of 8 p.m. the day before reporting.\""
   ]
  },
  {
   "cell_type": "code",
   "execution_count": 2,
   "metadata": {},
   "outputs": [],
   "source": [
    "def get_arcgis_xhr_data(url):\n",
    "    r = requests.get(url, verify=False)\n",
    "    r.raise_for_status()\n",
    "    data = r.json()['features']\n",
    "    norm_data = []\n",
    "    for datum in data:\n",
    "        norm_data.append(datum['attributes'])\n",
    "    return pd.DataFrame(data=norm_data)"
   ]
  },
  {
   "cell_type": "code",
   "execution_count": 3,
   "metadata": {},
   "outputs": [
    {
     "name": "stdout",
     "output_type": "stream",
     "text": [
      "loading city\n"
     ]
    },
    {
     "name": "stderr",
     "output_type": "stream",
     "text": [
      "/Users/dan/code/texascovid19/venv/lib/python3.8/site-packages/urllib3/connectionpool.py:997: InsecureRequestWarning: Unverified HTTPS request is being made to host 'gis.wilco.org'. Adding certificate verification is strongly advised. See: https://urllib3.readthedocs.io/en/latest/advanced-usage.html#ssl-warnings\n",
      "  warnings.warn(\n",
      "/Users/dan/code/texascovid19/venv/lib/python3.8/site-packages/urllib3/connectionpool.py:997: InsecureRequestWarning: Unverified HTTPS request is being made to host 'gis.wilco.org'. Adding certificate verification is strongly advised. See: https://urllib3.readthedocs.io/en/latest/advanced-usage.html#ssl-warnings\n",
      "  warnings.warn(\n"
     ]
    },
    {
     "name": "stdout",
     "output_type": "stream",
     "text": [
      "loading gender\n",
      "loading age\n"
     ]
    },
    {
     "name": "stderr",
     "output_type": "stream",
     "text": [
      "/Users/dan/code/texascovid19/venv/lib/python3.8/site-packages/urllib3/connectionpool.py:997: InsecureRequestWarning: Unverified HTTPS request is being made to host 'gis.wilco.org'. Adding certificate verification is strongly advised. See: https://urllib3.readthedocs.io/en/latest/advanced-usage.html#ssl-warnings\n",
      "  warnings.warn(\n",
      "/Users/dan/code/texascovid19/venv/lib/python3.8/site-packages/urllib3/connectionpool.py:997: InsecureRequestWarning: Unverified HTTPS request is being made to host 'gis.wilco.org'. Adding certificate verification is strongly advised. See: https://urllib3.readthedocs.io/en/latest/advanced-usage.html#ssl-warnings\n",
      "  warnings.warn(\n"
     ]
    },
    {
     "name": "stdout",
     "output_type": "stream",
     "text": [
      "loading status\n"
     ]
    }
   ],
   "source": [
    "print(\"loading city\")\n",
    "df_city = get_arcgis_xhr_data(constants.WILCO_CITY_XHR_URL)\n",
    "\n",
    "print(\"loading gender\")\n",
    "df_gender = get_arcgis_xhr_data(constants.WILCO_GENDER_XHR_URL)\n",
    "\n",
    "print(\"loading age\")\n",
    "df_age = get_arcgis_xhr_data(constants.WILCO_AGE_DISTRO_XHR_URL)\n",
    "\n",
    "print(\"loading status\")\n",
    "df_status = get_arcgis_xhr_data(constants.WILCO_STATUS_XHR_URL)"
   ]
  },
  {
   "cell_type": "code",
   "execution_count": 4,
   "metadata": {},
   "outputs": [],
   "source": [
    "df_city = (df_city\n",
    "           .rename(columns={\"City_of_Residence\": \"City of Residence\", \"Number_of_Cases\": \"Number of Cases\"})\n",
    "           .drop('OBJECTID', axis=1)\n",
    "           .set_index(\"City of Residence\"))"
   ]
  },
  {
   "cell_type": "code",
   "execution_count": 5,
   "metadata": {},
   "outputs": [
    {
     "data": {
      "text/html": [
       "<div>\n",
       "<style scoped>\n",
       "    .dataframe tbody tr th:only-of-type {\n",
       "        vertical-align: middle;\n",
       "    }\n",
       "\n",
       "    .dataframe tbody tr th {\n",
       "        vertical-align: top;\n",
       "    }\n",
       "\n",
       "    .dataframe thead th {\n",
       "        text-align: right;\n",
       "    }\n",
       "</style>\n",
       "<table border=\"1\" class=\"dataframe\">\n",
       "  <thead>\n",
       "    <tr style=\"text-align: right;\">\n",
       "      <th></th>\n",
       "      <th>Number of Cases</th>\n",
       "      <th>Case_Percentage</th>\n",
       "      <th>Total_Cases</th>\n",
       "      <th>Recovered</th>\n",
       "      <th>OpenCases</th>\n",
       "      <th>Deceased</th>\n",
       "    </tr>\n",
       "    <tr>\n",
       "      <th>City of Residence</th>\n",
       "      <th></th>\n",
       "      <th></th>\n",
       "      <th></th>\n",
       "      <th></th>\n",
       "      <th></th>\n",
       "      <th></th>\n",
       "    </tr>\n",
       "  </thead>\n",
       "  <tbody>\n",
       "    <tr>\n",
       "      <th>Austin</th>\n",
       "      <td>24</td>\n",
       "      <td>6.0</td>\n",
       "      <td>377</td>\n",
       "      <td>17</td>\n",
       "      <td>7</td>\n",
       "      <td>0</td>\n",
       "    </tr>\n",
       "    <tr>\n",
       "      <th>Cedar Park</th>\n",
       "      <td>27</td>\n",
       "      <td>7.0</td>\n",
       "      <td>377</td>\n",
       "      <td>23</td>\n",
       "      <td>4</td>\n",
       "      <td>0</td>\n",
       "    </tr>\n",
       "    <tr>\n",
       "      <th>Georgetown</th>\n",
       "      <td>42</td>\n",
       "      <td>11.0</td>\n",
       "      <td>377</td>\n",
       "      <td>27</td>\n",
       "      <td>13</td>\n",
       "      <td>2</td>\n",
       "    </tr>\n",
       "    <tr>\n",
       "      <th>Hutto</th>\n",
       "      <td>29</td>\n",
       "      <td>8.0</td>\n",
       "      <td>377</td>\n",
       "      <td>19</td>\n",
       "      <td>9</td>\n",
       "      <td>1</td>\n",
       "    </tr>\n",
       "    <tr>\n",
       "      <th>Leander</th>\n",
       "      <td>33</td>\n",
       "      <td>9.0</td>\n",
       "      <td>377</td>\n",
       "      <td>24</td>\n",
       "      <td>9</td>\n",
       "      <td>0</td>\n",
       "    </tr>\n",
       "    <tr>\n",
       "      <th>Other</th>\n",
       "      <td>41</td>\n",
       "      <td>11.0</td>\n",
       "      <td>377</td>\n",
       "      <td>24</td>\n",
       "      <td>17</td>\n",
       "      <td>0</td>\n",
       "    </tr>\n",
       "    <tr>\n",
       "      <th>Round Rock</th>\n",
       "      <td>181</td>\n",
       "      <td>48.0</td>\n",
       "      <td>377</td>\n",
       "      <td>79</td>\n",
       "      <td>92</td>\n",
       "      <td>10</td>\n",
       "    </tr>\n",
       "  </tbody>\n",
       "</table>\n",
       "</div>"
      ],
      "text/plain": [
       "                   Number of Cases  Case_Percentage  Total_Cases  Recovered  \\\n",
       "City of Residence                                                             \n",
       "Austin                          24              6.0          377         17   \n",
       "Cedar Park                      27              7.0          377         23   \n",
       "Georgetown                      42             11.0          377         27   \n",
       "Hutto                           29              8.0          377         19   \n",
       "Leander                         33              9.0          377         24   \n",
       "Other                           41             11.0          377         24   \n",
       "Round Rock                     181             48.0          377         79   \n",
       "\n",
       "                   OpenCases  Deceased  \n",
       "City of Residence                       \n",
       "Austin                     7         0  \n",
       "Cedar Park                 4         0  \n",
       "Georgetown                13         2  \n",
       "Hutto                      9         1  \n",
       "Leander                    9         0  \n",
       "Other                     17         0  \n",
       "Round Rock                92        10  "
      ]
     },
     "execution_count": 5,
     "metadata": {},
     "output_type": "execute_result"
    }
   ],
   "source": [
    "df_city"
   ]
  },
  {
   "cell_type": "code",
   "execution_count": 6,
   "metadata": {},
   "outputs": [],
   "source": [
    "df_gender = df_gender.rename(columns={\n",
    "    \"MalePercentage\": \"Male\",\n",
    "    \"FemalePercentage\": \"Female\"\n",
    "}).T\n",
    "df_gender.columns = [\"Percentage\"]\n",
    "df_gender.index.name = \"Gender\""
   ]
  },
  {
   "cell_type": "code",
   "execution_count": 7,
   "metadata": {},
   "outputs": [
    {
     "data": {
      "text/html": [
       "<div>\n",
       "<style scoped>\n",
       "    .dataframe tbody tr th:only-of-type {\n",
       "        vertical-align: middle;\n",
       "    }\n",
       "\n",
       "    .dataframe tbody tr th {\n",
       "        vertical-align: top;\n",
       "    }\n",
       "\n",
       "    .dataframe thead th {\n",
       "        text-align: right;\n",
       "    }\n",
       "</style>\n",
       "<table border=\"1\" class=\"dataframe\">\n",
       "  <thead>\n",
       "    <tr style=\"text-align: right;\">\n",
       "      <th></th>\n",
       "      <th>Percentage</th>\n",
       "    </tr>\n",
       "    <tr>\n",
       "      <th>Gender</th>\n",
       "      <th></th>\n",
       "    </tr>\n",
       "  </thead>\n",
       "  <tbody>\n",
       "    <tr>\n",
       "      <th>Male</th>\n",
       "      <td>50.0</td>\n",
       "    </tr>\n",
       "    <tr>\n",
       "      <th>Female</th>\n",
       "      <td>50.0</td>\n",
       "    </tr>\n",
       "  </tbody>\n",
       "</table>\n",
       "</div>"
      ],
      "text/plain": [
       "        Percentage\n",
       "Gender            \n",
       "Male          50.0\n",
       "Female        50.0"
      ]
     },
     "execution_count": 7,
     "metadata": {},
     "output_type": "execute_result"
    }
   ],
   "source": [
    "df_gender"
   ]
  },
  {
   "cell_type": "code",
   "execution_count": 8,
   "metadata": {},
   "outputs": [],
   "source": [
    "df_age = df_age.rename(columns={\n",
    "    \"Q_0_to_17\": \"0 to 17\",\n",
    "    \"Q_18_to_40\": \"18 to 40\",\n",
    "    \"Q_41_to_60\": \"41 to 60\",\n",
    "    \"Over_60\": \"Over 60\"\n",
    "}).T.convert_dtypes(convert_integer=True)\n",
    "df_age.columns = [\"Number of Cases\"]\n",
    "df_age.index.name = \"Age Group\""
   ]
  },
  {
   "cell_type": "code",
   "execution_count": 9,
   "metadata": {},
   "outputs": [
    {
     "data": {
      "text/html": [
       "<div>\n",
       "<style scoped>\n",
       "    .dataframe tbody tr th:only-of-type {\n",
       "        vertical-align: middle;\n",
       "    }\n",
       "\n",
       "    .dataframe tbody tr th {\n",
       "        vertical-align: top;\n",
       "    }\n",
       "\n",
       "    .dataframe thead th {\n",
       "        text-align: right;\n",
       "    }\n",
       "</style>\n",
       "<table border=\"1\" class=\"dataframe\">\n",
       "  <thead>\n",
       "    <tr style=\"text-align: right;\">\n",
       "      <th></th>\n",
       "      <th>Number of Cases</th>\n",
       "    </tr>\n",
       "    <tr>\n",
       "      <th>Age Group</th>\n",
       "      <th></th>\n",
       "    </tr>\n",
       "  </thead>\n",
       "  <tbody>\n",
       "    <tr>\n",
       "      <th>0 to 17</th>\n",
       "      <td>13</td>\n",
       "    </tr>\n",
       "    <tr>\n",
       "      <th>18 to 40</th>\n",
       "      <td>114</td>\n",
       "    </tr>\n",
       "    <tr>\n",
       "      <th>41 to 60</th>\n",
       "      <td>142</td>\n",
       "    </tr>\n",
       "    <tr>\n",
       "      <th>Over 60</th>\n",
       "      <td>108</td>\n",
       "    </tr>\n",
       "  </tbody>\n",
       "</table>\n",
       "</div>"
      ],
      "text/plain": [
       "           Number of Cases\n",
       "Age Group                 \n",
       "0 to 17                 13\n",
       "18 to 40               114\n",
       "41 to 60               142\n",
       "Over 60                108"
      ]
     },
     "execution_count": 9,
     "metadata": {},
     "output_type": "execute_result"
    }
   ],
   "source": [
    "df_age"
   ]
  },
  {
   "cell_type": "code",
   "execution_count": 10,
   "metadata": {},
   "outputs": [],
   "source": [
    "df_status = df_status.rename(columns={\n",
    "    \"HospitalizedPercentage\": \"Hospitalized Percentage\",\n",
    "    \"DeathsPercentage\": \"Deaths Percentage\",\n",
    "    \"RecoverdPercentage\": \"Recovered Percentage\",\n",
    "    \"Total_Cases\": \"Total Cases\",\n",
    "    \"ICUPercentage\": \"ICU Percentage\",\n",
    "    \"VentilatorPercentage\": \"Ventilator Percentage\",\n",
    "    \"Travel_Acquired\": \"Travel Acquired\",\n",
    "    \"TravelAcquiredPercentage\": \"Travel Acquired Percentage\",\n",
    "    \"Locally_Acquired\": \"Locally Acquired\",\n",
    "    \"LocallyAcquiredPercentage\": \"Locally Acquired Percentage\"\n",
    "}).T.drop('OBJECTID', axis=0)\n",
    "df_status.columns = [\"Number of Cases\"]\n",
    "df_status.index.name = \"Status\""
   ]
  },
  {
   "cell_type": "code",
   "execution_count": 11,
   "metadata": {},
   "outputs": [
    {
     "data": {
      "text/html": [
       "<div>\n",
       "<style scoped>\n",
       "    .dataframe tbody tr th:only-of-type {\n",
       "        vertical-align: middle;\n",
       "    }\n",
       "\n",
       "    .dataframe tbody tr th {\n",
       "        vertical-align: top;\n",
       "    }\n",
       "\n",
       "    .dataframe thead th {\n",
       "        text-align: right;\n",
       "    }\n",
       "</style>\n",
       "<table border=\"1\" class=\"dataframe\">\n",
       "  <thead>\n",
       "    <tr style=\"text-align: right;\">\n",
       "      <th></th>\n",
       "      <th>Number of Cases</th>\n",
       "    </tr>\n",
       "    <tr>\n",
       "      <th>Status</th>\n",
       "      <th></th>\n",
       "    </tr>\n",
       "  </thead>\n",
       "  <tbody>\n",
       "    <tr>\n",
       "      <th>Current_Hospitalized</th>\n",
       "      <td>11.0</td>\n",
       "    </tr>\n",
       "    <tr>\n",
       "      <th>Current_Hospitalized_Percentag</th>\n",
       "      <td>3.0</td>\n",
       "    </tr>\n",
       "    <tr>\n",
       "      <th>Hospitalized</th>\n",
       "      <td>59.0</td>\n",
       "    </tr>\n",
       "    <tr>\n",
       "      <th>Hospitalized Percentage</th>\n",
       "      <td>16.0</td>\n",
       "    </tr>\n",
       "    <tr>\n",
       "      <th>Deaths</th>\n",
       "      <td>13.0</td>\n",
       "    </tr>\n",
       "    <tr>\n",
       "      <th>Deaths Percentage</th>\n",
       "      <td>4.0</td>\n",
       "    </tr>\n",
       "    <tr>\n",
       "      <th>Recovered</th>\n",
       "      <td>213.0</td>\n",
       "    </tr>\n",
       "    <tr>\n",
       "      <th>Recovered Percentage</th>\n",
       "      <td>58.0</td>\n",
       "    </tr>\n",
       "    <tr>\n",
       "      <th>ICU</th>\n",
       "      <td>38.0</td>\n",
       "    </tr>\n",
       "    <tr>\n",
       "      <th>ICU Percentage</th>\n",
       "      <td>64.0</td>\n",
       "    </tr>\n",
       "    <tr>\n",
       "      <th>Current_ICU</th>\n",
       "      <td>7.0</td>\n",
       "    </tr>\n",
       "    <tr>\n",
       "      <th>Current_ICU_Percentage</th>\n",
       "      <td>64.0</td>\n",
       "    </tr>\n",
       "    <tr>\n",
       "      <th>Ventilator</th>\n",
       "      <td>22.0</td>\n",
       "    </tr>\n",
       "    <tr>\n",
       "      <th>Ventilator Percentage</th>\n",
       "      <td>37.0</td>\n",
       "    </tr>\n",
       "    <tr>\n",
       "      <th>Current_Vent</th>\n",
       "      <td>5.0</td>\n",
       "    </tr>\n",
       "    <tr>\n",
       "      <th>Current_Vent_Percentage</th>\n",
       "      <td>45.0</td>\n",
       "    </tr>\n",
       "    <tr>\n",
       "      <th>Total Cases</th>\n",
       "      <td>368.0</td>\n",
       "    </tr>\n",
       "    <tr>\n",
       "      <th>Open_Cases</th>\n",
       "      <td>142.0</td>\n",
       "    </tr>\n",
       "    <tr>\n",
       "      <th>Percent_ICU_Beds_Used</th>\n",
       "      <td>38.0</td>\n",
       "    </tr>\n",
       "    <tr>\n",
       "      <th>Percent_Vent_Used</th>\n",
       "      <td>75.0</td>\n",
       "    </tr>\n",
       "    <tr>\n",
       "      <th>Percent_Hospital_Beds_Used</th>\n",
       "      <td>23.0</td>\n",
       "    </tr>\n",
       "  </tbody>\n",
       "</table>\n",
       "</div>"
      ],
      "text/plain": [
       "                                Number of Cases\n",
       "Status                                         \n",
       "Current_Hospitalized                       11.0\n",
       "Current_Hospitalized_Percentag              3.0\n",
       "Hospitalized                               59.0\n",
       "Hospitalized Percentage                    16.0\n",
       "Deaths                                     13.0\n",
       "Deaths Percentage                           4.0\n",
       "Recovered                                 213.0\n",
       "Recovered Percentage                       58.0\n",
       "ICU                                        38.0\n",
       "ICU Percentage                             64.0\n",
       "Current_ICU                                 7.0\n",
       "Current_ICU_Percentage                     64.0\n",
       "Ventilator                                 22.0\n",
       "Ventilator Percentage                      37.0\n",
       "Current_Vent                                5.0\n",
       "Current_Vent_Percentage                    45.0\n",
       "Total Cases                               368.0\n",
       "Open_Cases                                142.0\n",
       "Percent_ICU_Beds_Used                      38.0\n",
       "Percent_Vent_Used                          75.0\n",
       "Percent_Hospital_Beds_Used                 23.0"
      ]
     },
     "execution_count": 11,
     "metadata": {},
     "output_type": "execute_result"
    }
   ],
   "source": [
    "df_status"
   ]
  },
  {
   "cell_type": "code",
   "execution_count": 12,
   "metadata": {},
   "outputs": [],
   "source": [
    "today = date.today().isoformat()"
   ]
  },
  {
   "cell_type": "code",
   "execution_count": 13,
   "metadata": {},
   "outputs": [],
   "source": [
    "wilco_path = f\"{constants.DATA_PATH}/wilco\""
   ]
  },
  {
   "cell_type": "code",
   "execution_count": 14,
   "metadata": {},
   "outputs": [],
   "source": [
    "def write_csv(categ, timeseries_column, dt, df):\n",
    "    df = df.copy()\n",
    "    df.to_csv(f\"{wilco_path}/{categ}/{today}.csv\", header=True, index=True)\n",
    "    # append to timeseries\n",
    "    timeseries_csv_name = f\"{wilco_path}/{categ}/timeseries.csv\"\n",
    "    df.rename(columns={timeseries_column: today}, inplace=True)\n",
    "    try:\n",
    "        df_timeseries = pd.read_csv(timeseries_csv_name).set_index(df.index.name)\n",
    "        if today in df_timeseries.columns:\n",
    "            df_timeseries.drop(columns=today, inplace=True)\n",
    "        df_timeseries = pd.concat([df_timeseries, df[[today]]] , axis=1).rename_axis(df.index.name)\n",
    "        df_timeseries.to_csv(timeseries_csv_name, header=True, index=True)\n",
    "    except FileNotFoundError as e:\n",
    "        print(f\"Couldn't find file {timeseries_csv_name}\")\n",
    "        df[[today]].to_csv(timeseries_csv_name, header=True, index=True)\n",
    "\n"
   ]
  },
  {
   "cell_type": "code",
   "execution_count": 15,
   "metadata": {},
   "outputs": [],
   "source": [
    "write_csv(\"bycity\", \"Number of Cases\", today, df_city)"
   ]
  },
  {
   "cell_type": "code",
   "execution_count": 16,
   "metadata": {},
   "outputs": [],
   "source": [
    "write_csv(\"byage\", \"Number of Cases\", today, df_age)"
   ]
  },
  {
   "cell_type": "code",
   "execution_count": 17,
   "metadata": {},
   "outputs": [],
   "source": [
    "write_csv(\"bygender\", \"Percentage\", today, df_gender)"
   ]
  },
  {
   "cell_type": "code",
   "execution_count": 18,
   "metadata": {},
   "outputs": [],
   "source": [
    "write_csv(\"bystatus\", \"Number of Cases\", today, df_status)"
   ]
  },
  {
   "cell_type": "code",
   "execution_count": null,
   "metadata": {},
   "outputs": [],
   "source": []
  }
 ],
 "metadata": {
  "kernelspec": {
   "display_name": "Python 3",
   "language": "python",
   "name": "python3"
  },
  "language_info": {
   "codemirror_mode": {
    "name": "ipython",
    "version": 3
   },
   "file_extension": ".py",
   "mimetype": "text/x-python",
   "name": "python",
   "nbconvert_exporter": "python",
   "pygments_lexer": "ipython3",
   "version": "3.8.2"
  }
 },
 "nbformat": 4,
 "nbformat_minor": 4
}
